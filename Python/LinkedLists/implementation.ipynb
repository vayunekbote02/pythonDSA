{
 "cells": [
  {
   "cell_type": "markdown",
   "metadata": {},
   "source": [
    "Linked List Class"
   ]
  },
  {
   "cell_type": "code",
   "execution_count": 1,
   "metadata": {},
   "outputs": [],
   "source": [
    "class Node:\n",
    "    def __init__(self, value):\n",
    "        self.value = value\n",
    "        self.next = None"
   ]
  },
  {
   "cell_type": "code",
   "execution_count": 6,
   "metadata": {},
   "outputs": [],
   "source": [
    "class LinkedList:\n",
    "    def __init__(self, data):\n",
    "        a = Node(data)\n",
    "        self.head = a\n",
    "\n",
    "\n",
    "    def to_list(self):\n",
    "        out = []\n",
    "        node = self.head\n",
    "        while node:\n",
    "            out.append(node.value)\n",
    "            node = node.next\n",
    "        return out\n",
    "\n",
    "    def postpend(self, value):\n",
    "        temp = self.head\n",
    "        while temp.next != None:\n",
    "            temp = temp.next\n",
    "        temp.next = value\n",
    "        "
   ]
  },
  {
   "cell_type": "code",
   "execution_count": 7,
   "metadata": {},
   "outputs": [
    {
     "name": "stdout",
     "output_type": "stream",
     "text": [
      "<bound method LinkedList.to_list of <__main__.LinkedList object at 0x000001DDB51C63A0>>\n"
     ]
    }
   ],
   "source": [
    "ll = LinkedList(5)\n",
    "a = Node(10)\n",
    "b = Node(20)\n",
    "c = Node(30)\n",
    "ll.postpend(a)\n",
    "ll.postpend(b)\n",
    "ll.postpend(c)\n",
    "print(ll.to_list)"
   ]
  }
 ],
 "metadata": {
  "kernelspec": {
   "display_name": "Python 3.9.6 64-bit",
   "language": "python",
   "name": "python3"
  },
  "language_info": {
   "codemirror_mode": {
    "name": "ipython",
    "version": 3
   },
   "file_extension": ".py",
   "mimetype": "text/x-python",
   "name": "python",
   "nbconvert_exporter": "python",
   "pygments_lexer": "ipython3",
   "version": "3.9.6"
  },
  "orig_nbformat": 4,
  "vscode": {
   "interpreter": {
    "hash": "672d1630312bb2f9bbddb71fcb6ff8fcfce46cc98a145ba2a330cfc2332a2708"
   }
  }
 },
 "nbformat": 4,
 "nbformat_minor": 2
}
