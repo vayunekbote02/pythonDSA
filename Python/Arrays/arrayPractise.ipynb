{
 "cells": [
  {
   "cell_type": "code",
   "execution_count": 1,
   "metadata": {},
   "outputs": [],
   "source": [
    "import array as arr"
   ]
  },
  {
   "cell_type": "markdown",
   "metadata": {},
   "source": [
    "Creating an array and traversing"
   ]
  },
  {
   "cell_type": "code",
   "execution_count": 7,
   "metadata": {},
   "outputs": [
    {
     "name": "stdout",
     "output_type": "stream",
     "text": [
      "1\n",
      "2\n",
      "3\n",
      "4\n",
      "5\n",
      "6\n"
     ]
    }
   ],
   "source": [
    "a = arr.array('i', [1, 2, 3, 4, 5, 6])\n",
    "\n",
    "for i in a:\n",
    "    print(i)"
   ]
  },
  {
   "cell_type": "markdown",
   "metadata": {},
   "source": [
    "Accessing individual elements through indexes"
   ]
  },
  {
   "cell_type": "code",
   "execution_count": 8,
   "metadata": {},
   "outputs": [
    {
     "name": "stdout",
     "output_type": "stream",
     "text": [
      "4\n"
     ]
    }
   ],
   "source": [
    "print(a[3])"
   ]
  },
  {
   "cell_type": "markdown",
   "metadata": {},
   "source": [
    "Append any value to the array using append() method"
   ]
  },
  {
   "cell_type": "code",
   "execution_count": 9,
   "metadata": {},
   "outputs": [
    {
     "name": "stdout",
     "output_type": "stream",
     "text": [
      "array('i', [1, 2, 3, 4, 5, 6, 6])\n"
     ]
    }
   ],
   "source": [
    "a.append(6)\n",
    "print(a)"
   ]
  },
  {
   "cell_type": "markdown",
   "metadata": {},
   "source": [
    "Inserting value into the array"
   ]
  },
  {
   "cell_type": "code",
   "execution_count": 10,
   "metadata": {},
   "outputs": [
    {
     "name": "stdout",
     "output_type": "stream",
     "text": [
      "array('i', [-1, 1, 2, 3, 4, 5, 6, 6])\n"
     ]
    }
   ],
   "source": [
    "a.insert(0, -1)\n",
    "print(a)"
   ]
  },
  {
   "cell_type": "markdown",
   "metadata": {},
   "source": [
    "Extend python array using extend() method"
   ]
  },
  {
   "cell_type": "code",
   "execution_count": 11,
   "metadata": {},
   "outputs": [
    {
     "name": "stdout",
     "output_type": "stream",
     "text": [
      "array('i', [-1, 1, 2, 3, 4, 5, 6, 6, 10, 11, 12])\n"
     ]
    }
   ],
   "source": [
    "my_array1 = arr.array('i', [10,11,12])\n",
    "a.extend(my_array1)\n",
    "print(a)"
   ]
  },
  {
   "cell_type": "markdown",
   "metadata": {},
   "source": [
    "Add items from list into array using fromlist() method"
   ]
  },
  {
   "cell_type": "code",
   "execution_count": 12,
   "metadata": {},
   "outputs": [
    {
     "name": "stdout",
     "output_type": "stream",
     "text": [
      "array('i', [-1, 1, 2, 3, 4, 5, 6, 6, 10, 11, 12, 20, 21, 22])\n"
     ]
    }
   ],
   "source": [
    "tempList = [20,21,22]\n",
    "a.fromlist(tempList)\n",
    "print(a)"
   ]
  },
  {
   "cell_type": "markdown",
   "metadata": {},
   "source": [
    "Remove any array element using remove() method"
   ]
  },
  {
   "cell_type": "code",
   "execution_count": 13,
   "metadata": {},
   "outputs": [
    {
     "name": "stdout",
     "output_type": "stream",
     "text": [
      "array('i', [-1, 1, 2, 3, 4, 5, 6, 6, 10, 12, 20, 21, 22])\n"
     ]
    }
   ],
   "source": [
    "a.remove(11)\n",
    "print(a)"
   ]
  },
  {
   "cell_type": "markdown",
   "metadata": {},
   "source": [
    "Remove last array element using pop() method"
   ]
  },
  {
   "cell_type": "code",
   "execution_count": 14,
   "metadata": {},
   "outputs": [
    {
     "name": "stdout",
     "output_type": "stream",
     "text": [
      "array('i', [-1, 1, 2, 3, 4, 5, 6, 6, 10, 12, 20, 21])\n"
     ]
    }
   ],
   "source": [
    "a.pop()\n",
    "print(a)"
   ]
  },
  {
   "cell_type": "markdown",
   "metadata": {},
   "source": [
    "Fetch any element through its index using index() method"
   ]
  },
  {
   "cell_type": "code",
   "execution_count": 15,
   "metadata": {},
   "outputs": [
    {
     "name": "stdout",
     "output_type": "stream",
     "text": [
      "10\n"
     ]
    }
   ],
   "source": [
    "print(a.index(20))"
   ]
  },
  {
   "cell_type": "markdown",
   "metadata": {},
   "source": [
    "Reverse a python array using reverse() method"
   ]
  },
  {
   "cell_type": "code",
   "execution_count": 16,
   "metadata": {},
   "outputs": [
    {
     "name": "stdout",
     "output_type": "stream",
     "text": [
      "array('i', [21, 20, 12, 10, 6, 6, 5, 4, 3, 2, 1, -1])\n"
     ]
    }
   ],
   "source": [
    "a.reverse()\n",
    "print(a)"
   ]
  },
  {
   "cell_type": "markdown",
   "metadata": {},
   "source": [
    "Get array buffer information through buffer_info() method"
   ]
  },
  {
   "cell_type": "code",
   "execution_count": 17,
   "metadata": {},
   "outputs": [
    {
     "name": "stdout",
     "output_type": "stream",
     "text": [
      "(2003732524208, 12)\n"
     ]
    }
   ],
   "source": [
    "print(a.buffer_info())"
   ]
  },
  {
   "cell_type": "markdown",
   "metadata": {},
   "source": [
    "Check for number of occurrences of an element using count() method"
   ]
  },
  {
   "cell_type": "code",
   "execution_count": 18,
   "metadata": {},
   "outputs": [
    {
     "name": "stdout",
     "output_type": "stream",
     "text": [
      "2\n",
      "array('i', [21, 20, 12, 10, 6, 6, 5, 4, 3, 2, 1, -1, 21])\n"
     ]
    }
   ],
   "source": [
    "a.append(21)\n",
    "print(a.count(21))\n",
    "print(a)"
   ]
  },
  {
   "cell_type": "markdown",
   "metadata": {},
   "source": [
    "2D Arrays"
   ]
  },
  {
   "cell_type": "code",
   "execution_count": 31,
   "metadata": {},
   "outputs": [
    {
     "name": "stdout",
     "output_type": "stream",
     "text": [
      "[[11 15 10  6]\n",
      " [10 14 11  5]\n",
      " [12 17 12  8]\n",
      " [15 18 14  9]]\n"
     ]
    }
   ],
   "source": [
    "import numpy as np\n",
    "\n",
    "twoDArray = np.array([[11, 15, 10, 6], [10, 14, 11, 5], [12, 17, 12, 8], [15, 18, 14, 9]])\n",
    "print(twoDArray)"
   ]
  },
  {
   "cell_type": "markdown",
   "metadata": {},
   "source": [
    "Inserting in a 2D array"
   ]
  },
  {
   "cell_type": "code",
   "execution_count": 32,
   "metadata": {},
   "outputs": [
    {
     "name": "stdout",
     "output_type": "stream",
     "text": [
      "[[11  1 15 10  6]\n",
      " [10  2 14 11  5]\n",
      " [12  3 17 12  8]\n",
      " [15  4 18 14  9]]\n"
     ]
    }
   ],
   "source": [
    "newTwoDArray = np.insert(twoDArray, 1, [[1, 2, 3, 4]], axis=1)\n",
    "print(newTwoDArray)"
   ]
  },
  {
   "cell_type": "code",
   "execution_count": 34,
   "metadata": {},
   "outputs": [
    {
     "name": "stdout",
     "output_type": "stream",
     "text": [
      "[[11  1 15 10  6]\n",
      " [10  2 14 11  5]\n",
      " [12  3 17 12  8]\n",
      " [15  4 18 14  9]\n",
      " [ 7  8  9 10 11]]\n"
     ]
    }
   ],
   "source": [
    "newTwoDArray = np.append(newTwoDArray, [[7, 8, 9, 10, 11]], axis=0)\n",
    "print(newTwoDArray)"
   ]
  },
  {
   "cell_type": "markdown",
   "metadata": {},
   "source": [
    "Accessing an element in a 2D Array"
   ]
  },
  {
   "cell_type": "code",
   "execution_count": 35,
   "metadata": {},
   "outputs": [
    {
     "name": "stdout",
     "output_type": "stream",
     "text": [
      "17\n"
     ]
    }
   ],
   "source": [
    "def accessElement(array, r, c):\n",
    "    if r >= len(array) and c >= len(array[0]):\n",
    "        print(\"Incorrect index!\")\n",
    "    else:\n",
    "        print(array[r][c])\n",
    "\n",
    "\n",
    "accessElement(newTwoDArray, 2, 2)"
   ]
  },
  {
   "cell_type": "markdown",
   "metadata": {},
   "source": [
    "Traversal"
   ]
  },
  {
   "cell_type": "code",
   "execution_count": 36,
   "metadata": {},
   "outputs": [
    {
     "name": "stdout",
     "output_type": "stream",
     "text": [
      "11 1 15 10 6 10 2 14 11 5 12 3 17 12 8 15 4 18 14 9 7 8 9 10 11 "
     ]
    }
   ],
   "source": [
    "for i in range(len(newTwoDArray)):\n",
    "    for j in range(len(newTwoDArray[0])):\n",
    "        print(newTwoDArray[i][j], end=' ')"
   ]
  },
  {
   "cell_type": "markdown",
   "metadata": {},
   "source": [
    "Searching for an element"
   ]
  },
  {
   "cell_type": "code",
   "execution_count": 38,
   "metadata": {},
   "outputs": [
    {
     "name": "stdout",
     "output_type": "stream",
     "text": [
      "2 2\n"
     ]
    }
   ],
   "source": [
    "target = 17\n",
    "\n",
    "for i in range(len(newTwoDArray)):\n",
    "    for j in range(len(newTwoDArray[0])):\n",
    "        if newTwoDArray[i][j] == target:\n",
    "            print(i, j)\n",
    "            break"
   ]
  },
  {
   "cell_type": "markdown",
   "metadata": {},
   "source": [
    "Deletion"
   ]
  },
  {
   "cell_type": "code",
   "execution_count": 39,
   "metadata": {},
   "outputs": [
    {
     "name": "stdout",
     "output_type": "stream",
     "text": [
      "[[11  1 15 10  6]\n",
      " [10  2 14 11  5]\n",
      " [12  3 17 12  8]\n",
      " [15  4 18 14  9]\n",
      " [ 7  8  9 10 11]]\n",
      "[[10  2 14 11  5]\n",
      " [12  3 17 12  8]\n",
      " [15  4 18 14  9]\n",
      " [ 7  8  9 10 11]]\n"
     ]
    }
   ],
   "source": [
    "print(newTwoDArray)\n",
    "newTwoDArray = np.delete(newTwoDArray, 0, axis=0)\n",
    "print(newTwoDArray)"
   ]
  }
 ],
 "metadata": {
  "kernelspec": {
   "display_name": "Python 3.9.6 64-bit",
   "language": "python",
   "name": "python3"
  },
  "language_info": {
   "codemirror_mode": {
    "name": "ipython",
    "version": 3
   },
   "file_extension": ".py",
   "mimetype": "text/x-python",
   "name": "python",
   "nbconvert_exporter": "python",
   "pygments_lexer": "ipython3",
   "version": "3.9.6"
  },
  "orig_nbformat": 4,
  "vscode": {
   "interpreter": {
    "hash": "672d1630312bb2f9bbddb71fcb6ff8fcfce46cc98a145ba2a330cfc2332a2708"
   }
  }
 },
 "nbformat": 4,
 "nbformat_minor": 2
}
